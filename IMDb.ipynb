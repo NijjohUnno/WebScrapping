{
 "cells": [
  {
   "cell_type": "code",
   "execution_count": 18,
   "id": "1c657cb7",
   "metadata": {},
   "outputs": [],
   "source": [
    "#Import Necessary Libraries\n",
    "from bs4 import BeautifulSoup\n",
    "import requests\n",
    "import pandas as pd\n"
   ]
  },
  {
   "cell_type": "code",
   "execution_count": 19,
   "id": "8ff49135",
   "metadata": {},
   "outputs": [],
   "source": [
    "#Send an HTTP Request\n",
    "url = 'https://www.imdb.com/'\n",
    "headers = {'User-Agent': 'Mozilla/5.0 (Windows NT 10.0; Win64; x64) AppleWebKit/537.36 (KHTML, like Gecko) Chrome/115.0.0.0 Safari/537.36'}\n",
    "movie_url = url + 'chart/moviemeter/?ref_=nv_mv_mpm'\n",
    "r = requests.get(movie_url,  headers=headers)\n",
    "soup = BeautifulSoup(r.content, 'html.parser')\n"
   ]
  },
  {
   "cell_type": "code",
   "execution_count": 20,
   "id": "98a1ea33",
   "metadata": {},
   "outputs": [],
   "source": [
    "# Find all the movie elements\n",
    "movies = soup.find_all(\"div\", {\"class\": \"ipc-metadata-list-summary-item__tc\"})\n",
    "# Initialize the list to store movie data\n",
    "movie_list = []\n",
    "\n",
    "# Loop through each movie element and extract data\n",
    "for content in movies:\n",
    "    movie_item = []    \n",
    "    # Movie name\n",
    "    movie_name = content.find(\"h3\", {\"class\": \"ipc-title__text\"}).text\n",
    "    movie_item.append(movie_name)\n",
    "    #Movie Year\n",
    "    movie_year = content.find(\"span\", {\"class\": \"sc-b85248f1-6\"}).text\n",
    "    movie_item.append(movie_year)\n",
    "    #Movie Duration\n",
    "    movie_duration_elements = content.find_all(\"span\", {\"class\": \"sc-b85248f1-6\"})\n",
    "    if len(movie_duration_elements) > 1:\n",
    "        movie_duration = movie_duration_elements[1].text\n",
    "        movie_item.append(movie_duration)\n",
    "    else:\n",
    "        movie_item.append(\"Duration not available\")\n",
    "    #Movie_Rating      \n",
    "    rating_span = content.find('span', class_='ipc-rating-star--imdb')\n",
    "    if rating_span:\n",
    "        imdb_rating = rating_span.get_text(strip=True)\n",
    "        movie_item.append(imdb_rating)\n",
    "    else:\n",
    "        movie_item.append(\"Rating not available\")\n",
    "    # Append the movie data to the movie_list\n",
    "    movie_list.append(movie_item)\n",
    "\n",
    "# Create a DataFrame from the movie_list\n",
    "df = pd.DataFrame(movie_list, columns=['Name','Year','duration','Rating'])\n",
    "\n",
    "# Save the DataFrame to a CSV file\n",
    "df.to_csv('most_popular_movies.csv', index=False)\n"
   ]
  }
 ],
 "metadata": {
  "kernelspec": {
   "display_name": "Python 3 (ipykernel)",
   "language": "python",
   "name": "python3"
  },
  "language_info": {
   "codemirror_mode": {
    "name": "ipython",
    "version": 3
   },
   "file_extension": ".py",
   "mimetype": "text/x-python",
   "name": "python",
   "nbconvert_exporter": "python",
   "pygments_lexer": "ipython3",
   "version": "3.9.13"
  }
 },
 "nbformat": 4,
 "nbformat_minor": 5
}
